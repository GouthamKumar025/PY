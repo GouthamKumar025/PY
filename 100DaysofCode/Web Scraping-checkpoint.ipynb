{
 "cells": [
  {
   "cell_type": "code",
   "execution_count": 13,
   "id": "4d2fb277-f12a-4a3b-b22d-c83fbcd76b4c",
   "metadata": {
    "tags": []
   },
   "outputs": [
    {
     "name": "stdout",
     "output_type": "stream",
     "text": [
      "This course is part of multiple programs\n",
      "Instructors\n",
      "Course\n",
      "Recommended experience\n",
      "What you'll learn\n",
      "Skills you'll gain\n",
      "Details to know\n",
      "Course\n",
      "Recommended experience\n",
      "Build your subject-matter expertise\n",
      "Earn a career certificate\n",
      "There is 1 module in this course\n",
      "Instructor ratings\n",
      "Instructors\n",
      "Offered by\n",
      "\n",
      "Why people choose Coursera for their career\n",
      "Learner reviews\n",
      "New to Data Analysis? Start here.\n",
      "Open new doors with Coursera Plus\n",
      "Advance your career with an online degree\n",
      "Join over 3,400 global companies that choose Coursera for Business\n",
      "Frequently asked questions\n"
     ]
    }
   ],
   "source": [
    "import bs4\n",
    "from bs4 import BeautifulSoup\n",
    "import requests\n",
    "\n",
    "url = 'https://www.coursera.org/learn/python-project-for-data-science?specialization=applied-data-science'\n",
    "\n",
    "response = requests.get(url)\n",
    "\n",
    "if response.status_code == 200:\n",
    "    # Parse the HTML content of the page\n",
    "    soup = BeautifulSoup(response.text, 'html.parser')\n",
    "\n",
    "    # Extract information based on the HTML structure of the website\n",
    "    # In this example, we're assuming the titles are inside <h2> tags\n",
    "    article_titles = soup.find_all('h2')\n",
    "\n",
    "    # Print the titles\n",
    "    for title in article_titles:\n",
    "        print(title.text)\n",
    "else:\n",
    "    print(f\"Failed to retrieve the page. Status code: {response.status_code}\")"
   ]
  },
  {
   "cell_type": "code",
   "execution_count": 14,
   "id": "7a836b45-3091-4658-9b07-3c481b1ee3c8",
   "metadata": {
    "tags": []
   },
   "outputs": [
    {
     "data": {
      "text/plain": [
       "<title data-react-helmet=\"true\">Python Project for Data Science | Coursera</title>"
      ]
     },
     "execution_count": 14,
     "metadata": {},
     "output_type": "execute_result"
    }
   ],
   "source": [
    "tag_object = soup.title\n",
    "tag_object"
   ]
  },
  {
   "cell_type": "code",
   "execution_count": 22,
   "id": "d448ca93-d076-45b7-b392-929f235b6e8f",
   "metadata": {
    "tags": []
   },
   "outputs": [
    {
     "data": {
      "text/plain": [
       "<h2 class=\"cds-119 cds-Typography-base css-bbd009 cds-121\">This course is part of multiple programs</h2>"
      ]
     },
     "execution_count": 22,
     "metadata": {},
     "output_type": "execute_result"
    }
   ],
   "source": [
    "tag_child = soup.h2\n",
    "tag_child"
   ]
  },
  {
   "cell_type": "code",
   "execution_count": 24,
   "id": "96bbb6bd-84a0-419b-8fbb-11473a34bbb1",
   "metadata": {
    "tags": []
   },
   "outputs": [
    {
     "data": {
      "text/plain": [
       "<div class=\"css-1s8ia2i\" id=\"cds-react-aria-7-headingGroup\"><h2 class=\"cds-119 cds-Typography-base css-bbd009 cds-121\">This course is part of multiple programs</h2></div>"
      ]
     },
     "execution_count": 24,
     "metadata": {},
     "output_type": "execute_result"
    }
   ],
   "source": [
    "parent_tag = tag_child.parent\n",
    "parent_tag"
   ]
  },
  {
   "cell_type": "code",
   "execution_count": 28,
   "id": "e28e7efd-6ce6-4e5c-a195-205789f935a1",
   "metadata": {
    "tags": []
   },
   "outputs": [
    {
     "data": {
      "text/plain": [
       "'\\n'"
      ]
     },
     "execution_count": 28,
     "metadata": {},
     "output_type": "execute_result"
    }
   ],
   "source": [
    "sibling1 = tag_object.next_sibling\n",
    "sibling1"
   ]
  },
  {
   "cell_type": "code",
   "execution_count": 35,
   "id": "138fe30b-2178-45a7-ab52-095186d3c068",
   "metadata": {
    "tags": []
   },
   "outputs": [],
   "source": [
    "sibling2 = sibling1.next_sibling"
   ]
  },
  {
   "cell_type": "code",
   "execution_count": 38,
   "id": "fb9e89fe-4fea-4545-99c9-cae2386212c8",
   "metadata": {
    "tags": []
   },
   "outputs": [
    {
     "data": {
      "text/plain": [
       "{'class': ['cds-119', 'cds-Typography-base', 'css-bbd009', 'cds-121']}"
      ]
     },
     "execution_count": 38,
     "metadata": {},
     "output_type": "execute_result"
    }
   ],
   "source": [
    "tag_child.attrs"
   ]
  },
  {
   "cell_type": "code",
   "execution_count": 40,
   "id": "0cd80d3d-8f54-4014-b653-73d0fb5469bf",
   "metadata": {
    "tags": []
   },
   "outputs": [
    {
     "data": {
      "text/plain": [
       "'This course is part of multiple programs'"
      ]
     },
     "execution_count": 40,
     "metadata": {},
     "output_type": "execute_result"
    }
   ],
   "source": [
    "tag_string = tag_child.string\n",
    "tag_string"
   ]
  },
  {
   "cell_type": "code",
   "execution_count": 52,
   "id": "6579c118-02fc-4f13-981e-65a65a890b17",
   "metadata": {
    "tags": []
   },
   "outputs": [
    {
     "data": {
      "text/plain": [
       "[]"
      ]
     },
     "execution_count": 52,
     "metadata": {},
     "output_type": "execute_result"
    }
   ],
   "source": [
    "filtered = tag_child.find_all('part')\n",
    "filtered"
   ]
  }
 ],
 "metadata": {
  "kernelspec": {
   "display_name": "Python 3 (ipykernel)",
   "language": "python",
   "name": "python3"
  },
  "language_info": {
   "codemirror_mode": {
    "name": "ipython",
    "version": 3
   },
   "file_extension": ".py",
   "mimetype": "text/x-python",
   "name": "python",
   "nbconvert_exporter": "python",
   "pygments_lexer": "ipython3",
   "version": "3.11.4"
  }
 },
 "nbformat": 4,
 "nbformat_minor": 5
}
