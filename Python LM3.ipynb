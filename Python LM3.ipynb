{
 "cells": [
  {
   "cell_type": "markdown",
   "id": "02bf99c4",
   "metadata": {},
   "source": [
    "<h3>Basics</h3>"
   ]
  },
  {
   "cell_type": "code",
   "execution_count": 1,
   "id": "467486ba",
   "metadata": {},
   "outputs": [
    {
     "name": "stdout",
     "output_type": "stream",
     "text": [
      "Apple\n",
      "Banana\n",
      "Orange\n"
     ]
    }
   ],
   "source": [
    "# unpacking the collections\n",
    "fruits = [\"Apple\",\"Banana\",\"Orange\"]\n",
    "x,y,z = fruits\n",
    "print(x)\n",
    "print(y)\n",
    "print(z)"
   ]
  },
  {
   "cell_type": "code",
   "execution_count": 2,
   "id": "f8220444",
   "metadata": {},
   "outputs": [
    {
     "name": "stdout",
     "output_type": "stream",
     "text": [
      "Python is awesome\n"
     ]
    }
   ],
   "source": [
    "# creating a global variable within a function\n",
    "def func():\n",
    "    global x\n",
    "    x = \"awesome\"\n",
    "    print(\"Python is \" + x)\n",
    "func()"
   ]
  },
  {
   "cell_type": "code",
   "execution_count": 3,
   "id": "54e16f2e",
   "metadata": {},
   "outputs": [
    {
     "name": "stdout",
     "output_type": "stream",
     "text": [
      "<class 'str'>\n",
      "<class 'int'>\n",
      "<class 'float'>\n",
      "<class 'complex'>\n",
      "<class 'list'>\n",
      "<class 'tuple'>\n",
      "<class 'range'>\n",
      "<class 'dict'>\n",
      "<class 'set'>\n",
      "<class 'bool'>\n",
      "<class 'memoryview'>\n"
     ]
    }
   ],
   "source": [
    "x = \"Goutham\"\n",
    "print(type(x))\n",
    "x = 5\n",
    "print(type(x))\n",
    "x = 5.0\n",
    "print(type(x))\n",
    "x = 1 + 5j\n",
    "print(type(x))\n",
    "x = ['apple','orange','guava']\n",
    "print(type(x))\n",
    "x = ('apple','orange','guava')\n",
    "print(type(x))\n",
    "x = range(6)  # output : range(0,6)\n",
    "print(type(x))\n",
    "x = {1:'Men',2:'Women'}\n",
    "print(type(x))\n",
    "x = {\"apple\", \"banana\", \"cherry\"}\n",
    "print(type(x))\n",
    "x = True\n",
    "print(type(x))\n",
    "x = memoryview(bytes(5))  # gives the memory address of the value\n",
    "print(type(x))"
   ]
  },
  {
   "cell_type": "code",
   "execution_count": 4,
   "id": "615cdb13",
   "metadata": {},
   "outputs": [
    {
     "name": "stdout",
     "output_type": "stream",
     "text": [
      "4\n"
     ]
    }
   ],
   "source": [
    "# generating random numbers\n",
    "import random\n",
    "print(random.randrange(1,10))"
   ]
  },
  {
   "cell_type": "code",
   "execution_count": 5,
   "id": "fd6bc3fe",
   "metadata": {},
   "outputs": [
    {
     "name": "stdout",
     "output_type": "stream",
     "text": [
      "True\n",
      "True\n"
     ]
    }
   ],
   "source": [
    "# checking whether the substring is present in the string\n",
    "txt = \"The best things in ife are free\"\n",
    "print(\"things\" in txt) # true\n",
    "print(\"ngs\" in txt) # true"
   ]
  },
  {
   "cell_type": "code",
   "execution_count": 6,
   "id": "c858d145",
   "metadata": {},
   "outputs": [
    {
     "name": "stdout",
     "output_type": "stream",
     "text": [
      "uth\n",
      "Gouth\n",
      "amKumar\n",
      "Kumar\n"
     ]
    }
   ],
   "source": [
    "# String slicing\n",
    "b = \"GouthamKumar\"\n",
    "print(b[2:5])\n",
    "print(b[:5])\n",
    "print(b[5:])\n",
    "print(b[-5:])"
   ]
  },
  {
   "cell_type": "code",
   "execution_count": 7,
   "id": "d7325870",
   "metadata": {},
   "outputs": [
    {
     "name": "stdout",
     "output_type": "stream",
     "text": [
      " GOUTHAM KUMAR\n",
      " goutham kumar\n",
      "goutham kumar\n",
      "gouthamkumar\n",
      "['', 'goutham', 'kumar']\n"
     ]
    }
   ],
   "source": [
    "# modify strings\n",
    "a = \" goutham kumar\"\n",
    "print(a.upper())  # converts to uppercase\n",
    "print(a.lower())  # converts to lowercase\n",
    "print(a.strip())  # removes the whitespaces\n",
    "print(a.replace(\" \",\"\"))\n",
    "print(a.split(\" \"))"
   ]
  },
  {
   "cell_type": "code",
   "execution_count": 8,
   "id": "22170b51",
   "metadata": {},
   "outputs": [
    {
     "name": "stdout",
     "output_type": "stream",
     "text": [
      "My name is Goutham, I am 21\n"
     ]
    }
   ],
   "source": [
    "age = 21\n",
    "txt = f\"My name is Goutham, I am {age}\"\n",
    "print(txt)"
   ]
  },
  {
   "cell_type": "code",
   "execution_count": 9,
   "id": "463e9605",
   "metadata": {},
   "outputs": [
    {
     "name": "stdout",
     "output_type": "stream",
     "text": [
      "Jupyter\n"
     ]
    }
   ],
   "source": [
    "string = \"jupyter\"\n",
    "print(string.capitalize())  # makes the first letter capital"
   ]
  },
  {
   "cell_type": "code",
   "execution_count": 10,
   "id": "e5867ef8",
   "metadata": {},
   "outputs": [
    {
     "name": "stdout",
     "output_type": "stream",
     "text": [
      "We are so called \"Vikings\" from the north\n"
     ]
    }
   ],
   "source": [
    "txt = \"We are so called \\\"Vikings\\\" from the north\"\n",
    "print(txt)"
   ]
  },
  {
   "cell_type": "markdown",
   "id": "0547170a",
   "metadata": {},
   "source": [
    "<h3>List Comprehension</h3>"
   ]
  },
  {
   "cell_type": "code",
   "execution_count": 11,
   "id": "5b084b8a",
   "metadata": {},
   "outputs": [
    {
     "name": "stdout",
     "output_type": "stream",
     "text": [
      "['orange', 'kiwi', 'melon']\n"
     ]
    }
   ],
   "source": [
    "thislist = [\"apple\", \"banana\", \"cherry\", \"orange\", \"kiwi\", \"melon\", \"mango\"]\n",
    "print(thislist[-4:-1])"
   ]
  },
  {
   "cell_type": "code",
   "execution_count": 12,
   "id": "73133225",
   "metadata": {},
   "outputs": [
    {
     "name": "stdout",
     "output_type": "stream",
     "text": [
      "['apple', 'banana', 'Watermelon', 'cherry', 'orange', 'kiwi', 'melon', 'mango']\n"
     ]
    }
   ],
   "source": [
    "thislist.insert(2,\"Watermelon\")\n",
    "print(thislist)"
   ]
  },
  {
   "cell_type": "code",
   "execution_count": 13,
   "id": "9b0a8f41",
   "metadata": {},
   "outputs": [
    {
     "name": "stdout",
     "output_type": "stream",
     "text": [
      "['apple', 'banana', 'Watermelon', 'cherry', 'orange', 'kiwi', 'mango']\n"
     ]
    }
   ],
   "source": [
    "thislist.remove(\"melon\")\n",
    "print(thislist)"
   ]
  },
  {
   "cell_type": "code",
   "execution_count": 14,
   "id": "0a3135e8",
   "metadata": {},
   "outputs": [
    {
     "name": "stdout",
     "output_type": "stream",
     "text": [
      "[1, 23, 11, 17, 31]\n"
     ]
    }
   ],
   "source": [
    "nums = [1,4,23,42,11,17,18,31]\n",
    "print([x for x in nums if x%2!=0])"
   ]
  },
  {
   "cell_type": "code",
   "execution_count": 15,
   "id": "d1547831",
   "metadata": {},
   "outputs": [
    {
     "name": "stdout",
     "output_type": "stream",
     "text": [
      "[42, 31, 23, 18, 17, 11, 4, 1]\n"
     ]
    }
   ],
   "source": [
    "nums.sort(reverse = True)  # or else nums.reverse() to reverse the entire given list\n",
    "print(nums)"
   ]
  },
  {
   "cell_type": "code",
   "execution_count": 16,
   "id": "14ea69d0",
   "metadata": {},
   "outputs": [
    {
     "name": "stdout",
     "output_type": "stream",
     "text": [
      "apple\n",
      "orange\n",
      "['guava', 'grape', 'kiwi', 'banana']\n"
     ]
    }
   ],
   "source": [
    "#unpacking in tuple\n",
    "fruits = ('apple','orange','guava','grape','kiwi','banana')\n",
    "red, blue, *green = fruits\n",
    "print(red)\n",
    "print(blue)\n",
    "print(green)"
   ]
  },
  {
   "cell_type": "code",
   "execution_count": 17,
   "id": "8e7ea91e",
   "metadata": {},
   "outputs": [
    {
     "name": "stdout",
     "output_type": "stream",
     "text": [
      "{1, 2, 3, 'c', 'a', 'b'}\n",
      "{2}\n",
      "{1, 3, 'a', 'c', 'b'}\n",
      "{'b', 'a', 'c'}\n"
     ]
    }
   ],
   "source": [
    "# set operations\n",
    "set1 = {\"a\", \"b\", \"c\",2}\n",
    "set2 = {1, 2, 3,2}\n",
    "\n",
    "#union\n",
    "print(set1.union(set2))\n",
    "\n",
    "#intersection\n",
    "print(set1.intersection(set2))\n",
    "\n",
    "#symmetric difference\n",
    "print(set1.symmetric_difference(set2))\n",
    "\n",
    "#difference\n",
    "print(set1.difference(set2))\n"
   ]
  },
  {
   "cell_type": "code",
   "execution_count": 18,
   "id": "892b6d3f",
   "metadata": {},
   "outputs": [
    {
     "name": "stdout",
     "output_type": "stream",
     "text": [
      "4\n"
     ]
    }
   ],
   "source": [
    "thisdict = {\n",
    "  \"brand\": \"Ford\",\n",
    "  \"electric\": False,\n",
    "  \"year\": 1964,\n",
    "  \"colors\": [\"red\", \"white\", \"blue\"]\n",
    "}\n",
    "print(len(thisdict))"
   ]
  },
  {
   "cell_type": "code",
   "execution_count": 19,
   "id": "d8b3b613",
   "metadata": {},
   "outputs": [
    {
     "name": "stdout",
     "output_type": "stream",
     "text": [
      "1964\n"
     ]
    }
   ],
   "source": [
    "print(thisdict.get(\"year\"))"
   ]
  },
  {
   "cell_type": "markdown",
   "id": "552a74a7",
   "metadata": {},
   "source": [
    "<h3> OOPS </h3>"
   ]
  },
  {
   "cell_type": "code",
   "execution_count": 20,
   "id": "bda97990",
   "metadata": {},
   "outputs": [
    {
     "name": "stdout",
     "output_type": "stream",
     "text": [
      "My name is Goutham and I am 21 years old.\n"
     ]
    }
   ],
   "source": [
    "class Person:\n",
    "    def __init__(self,name,age):\n",
    "        self.name = name\n",
    "        self.age = age\n",
    "        \n",
    "    def start(self):\n",
    "        print(f\"My name is {self.name} and I am {self.age} years old.\")\n",
    "\n",
    "p1 = Person(\"Goutham\",21)\n",
    "p1.start()"
   ]
  },
  {
   "cell_type": "code",
   "execution_count": 21,
   "id": "71e17c0c",
   "metadata": {},
   "outputs": [
    {
     "name": "stdout",
     "output_type": "stream",
     "text": [
      "2000\n"
     ]
    }
   ],
   "source": [
    "# encapsulation\n",
    "\n",
    "class Account:\n",
    "    def __init__(self,owner,balance):\n",
    "        self.owner = owner\n",
    "        self.balance = balance\n",
    "    \n",
    "    def deposit(self,amount):\n",
    "        self.balance += amount\n",
    "    \n",
    "    def getBalance(self):\n",
    "        return self.balance\n",
    "\n",
    "acc = Account(\"Goutham\",1000)\n",
    "acc.deposit(1000)\n",
    "print(acc.getBalance())"
   ]
  },
  {
   "cell_type": "code",
   "execution_count": 22,
   "id": "47aa5ad6",
   "metadata": {},
   "outputs": [
    {
     "name": "stdout",
     "output_type": "stream",
     "text": [
      "Bark\n"
     ]
    }
   ],
   "source": [
    "# abstraction\n",
    "\n",
    "from abc import ABC, abstractmethod\n",
    "\n",
    "class Animal(ABC):\n",
    "    @abstractmethod\n",
    "    def sound(self):\n",
    "        pass\n",
    "\n",
    "class Dog(Animal):\n",
    "    def sound(self):\n",
    "        print(\"Bark\")\n",
    "\n",
    "dog = Dog()\n",
    "dog.sound()"
   ]
  },
  {
   "cell_type": "code",
   "execution_count": 23,
   "id": "b384f045",
   "metadata": {},
   "outputs": [
    {
     "name": "stdout",
     "output_type": "stream",
     "text": [
      "Bark\n",
      "High Pitch\n"
     ]
    }
   ],
   "source": [
    "# inheritance\n",
    "\n",
    "class Animal:\n",
    "    def sound(self):\n",
    "        print(\"High Pitch\")\n",
    "\n",
    "class Dog(Animal):\n",
    "    def bark(self):\n",
    "        print(\"Bark\")\n",
    "\n",
    "dog = Dog()\n",
    "dog.bark()\n",
    "dog.sound()"
   ]
  },
  {
   "cell_type": "code",
   "execution_count": 24,
   "id": "39c73715",
   "metadata": {},
   "outputs": [
    {
     "name": "stdout",
     "output_type": "stream",
     "text": [
      "Meow\n",
      "Bark\n"
     ]
    }
   ],
   "source": [
    "# polymorphism\n",
    "class Cat:\n",
    "    def sound(self):\n",
    "        print(\"Meow\")\n",
    "class Dog:\n",
    "    def sound(self):\n",
    "        print(\"Bark\")\n",
    "\n",
    "def make_sound(self):\n",
    "    self.sound()\n",
    "        \n",
    "cat = Cat()\n",
    "dog = Dog()\n",
    "make_sound(cat)\n",
    "make_sound(dog)"
   ]
  },
  {
   "cell_type": "code",
   "execution_count": 35,
   "id": "502422b6",
   "metadata": {},
   "outputs": [
    {
     "name": "stdout",
     "output_type": "stream",
     "text": [
      "2025-05-14 12:51:30.434419\n",
      "2025\n",
      "Wednesday\n"
     ]
    }
   ],
   "source": [
    "# date time\n",
    "import datetime\n",
    "\n",
    "x = datetime.datetime.now()\n",
    "print(x)\n",
    "print(x.year)\n",
    "print(x.strftime(\"%A\"))"
   ]
  },
  {
   "cell_type": "code",
   "execution_count": 41,
   "id": "15f6b327",
   "metadata": {},
   "outputs": [
    {
     "name": "stdout",
     "output_type": "stream",
     "text": [
      "{\"brand\": \"Ford\", \"electric\": false, \"year\": 1964, \"colors\": [\"red\", \"white\", \"blue\"]}\n"
     ]
    }
   ],
   "source": [
    "# json parsing\n",
    "import json\n",
    "car = {\n",
    "  \"brand\": \"Ford\",\n",
    "  \"electric\": False,\n",
    "  \"year\": 1964,\n",
    "  \"colors\": [\"red\", \"white\", \"blue\"]\n",
    "}\n",
    "\n",
    "car_json = json.dumps(car)\n",
    "print(car_json)"
   ]
  },
  {
   "cell_type": "code",
   "execution_count": 46,
   "id": "39796674",
   "metadata": {},
   "outputs": [
    {
     "name": "stdout",
     "output_type": "stream",
     "text": [
      "Yes there is a match\n",
      "['ai', 'ai']\n"
     ]
    }
   ],
   "source": [
    "import re\n",
    "\n",
    "txt = \"The rain in Spain\"\n",
    "\n",
    "x = re.search(\"^The.*Spain$\",txt)\n",
    "\n",
    "if x:\n",
    "    print(\"Yes there is a match\")\n",
    "else:\n",
    "    print(\"No match\")\n",
    "    \n",
    "print(re.findall(\"ai\",txt))"
   ]
  },
  {
   "cell_type": "code",
   "execution_count": null,
   "id": "f9e10a4c",
   "metadata": {},
   "outputs": [],
   "source": []
  }
 ],
 "metadata": {
  "kernelspec": {
   "display_name": "Python 3 (ipykernel)",
   "language": "python",
   "name": "python3"
  },
  "language_info": {
   "codemirror_mode": {
    "name": "ipython",
    "version": 3
   },
   "file_extension": ".py",
   "mimetype": "text/x-python",
   "name": "python",
   "nbconvert_exporter": "python",
   "pygments_lexer": "ipython3",
   "version": "3.11.9"
  }
 },
 "nbformat": 4,
 "nbformat_minor": 5
}
